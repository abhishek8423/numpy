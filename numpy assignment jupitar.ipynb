{
 "cells": [
  {
   "cell_type": "markdown",
   "id": "b2058976-2e76-438c-9825-e285a724bbd0",
   "metadata": {},
   "source": [
    "# NUMPY ASSIGNMENT"
   ]
  },
  {
   "cell_type": "markdown",
   "id": "ee09b285-4c2a-4410-b25b-c07fa4afdf9e",
   "metadata": {},
   "source": [
    "### 1. Explain the purpose and advantages of NumPy in scientific computing and data analysis. How does it enhance Python's capabilities for numerical operations?"
   ]
  },
  {
   "cell_type": "markdown",
   "id": "71f40b60-260f-449c-a010-211cc6a06d91",
   "metadata": {},
   "source": [
    "NumPy is a powerful library in Python that provides support for large, multi-dimensional arrays and matrices, along with a variety of mathematical functions to operate on these arrays.\n",
    "\n",
    "__Purpose of NumPy:__\n",
    "\n",
    "__1.Efficient Numerical Computations:__ Python’s built-in data types (like lists) are not optimized for numerical operations, especially with large datasets.\n",
    "\n",
    "__2.Multi-Dimensional Arrays:__ NumPy provides support for multi-dimensional arrays (1D, 2D, 3D, etc.), which are essential for representing and manipulating data in fields like physics, engineering, machine learning, and data science.\n",
    "\n",
    "__3.Mathematical Functions:__ It offers a comprehensive set of mathematical functions to perform linear algebra, statistical analysis, random number generation, and Fourier transforms, which are essential for scientific computing.\n",
    "\n",
    "__Advantages of NumPy:__\n",
    "\n",
    "__1.Broadcasting:__ NumPy allows for broadcasting, a feature where smaller arrays are automatically expanded to match the dimensions of larger arrays during arithmetic operations.\n",
    "\n",
    "__2.Integration with Other Libraries:__ NumPy serves as the foundation for other scientific computing and machine learning libraries like SciPy, pandas, TensorFlow, and scikit-learn.\n",
    "\n",
    "__3.Indexing and Slicing:__ It provides powerful ways to index and slice arrays, making it easier to extract subsets of data or perform operations on specific elements of an array.\n",
    "\n",
    "__How NumPy Enhances Python:__\n",
    "- __Performance Boost:__ NumPy arrays are implemented in C, and operations on them are executed at speeds much faster than native Python operations on lists.\n",
    "- __Array-Oriented Computing:__ It introduces an array-oriented approach, enabling Python to handle matrices and arrays efficiently, bridging the gap with languages like MATLAB and R."
   ]
  },
  {
   "cell_type": "markdown",
   "id": "b5fdee17-8a4d-4562-8521-d655b58878a9",
   "metadata": {},
   "source": [
    "### 2. Compare and contrast np.mean() and np.average() functions in NumPy. When would you use one over the other?"
   ]
  },
  {
   "cell_type": "markdown",
   "id": "eed4c7f1-e231-483a-907d-92af8f698012",
   "metadata": {},
   "source": [
    "In NumPy, both np.mean() and np.average() are used to calculate the average of an array, but they differ in terms of functionality and use cases.\n",
    "\n",
    "__np.mean():__\n",
    "\n",
    "- It computes the arithmetic mean (average) of the array elements along the specified axis or of the flattened array if no axis is specified.\n",
    "- It does not support weighting the elements of the array.\n",
    "- \n",
    "__Syntax:__\n",
    "np.mean(a, axis=None, dtype=None, out=None, keepdims=False)\n",
    "\n",
    "__np.average():__\n",
    "\n",
    "- It computes the weighted average of the array elements, where each element can be assigned a weight.\n",
    "- If no weights are provided, it behaves like np.mean() by computing the simple arithmetic mean.\n",
    "- __Syntax:__\n",
    "np.average(a, axis=None, weights=None, returned=False)\n",
    "\n",
    "__When to Use np.mean() vs np.average()__\n",
    "\n",
    "__Use np.mean():__\n",
    "\n",
    "- When you need to compute the simple, unweighted arithmetic mean of an array.\n",
    "- In most typical cases where all elements of the array are equally important.\n",
    "- It is simpler and faster when weights are not required.\n",
    "\n",
    "__Use np.average():__\n",
    "\n",
    "- When you need to compute a weighted average, where some elements contribute more than others.\n",
    "- When you want to retrieve both the weighted average and the sum of the weights.\n",
    "- np.average() is more versatile, but slower if no weights are needed, due to the additional overhead."
   ]
  },
  {
   "cell_type": "markdown",
   "id": "748a7806-69b2-4063-a61b-4ddc9844877d",
   "metadata": {},
   "source": [
    "### 3. Describe the methods for reversing a NumPy array along different axes. Provide examples for 1D and 2D arrays."
   ]
  },
  {
   "cell_type": "markdown",
   "id": "b149bc15-482a-4603-b67e-b5f0a6ab4cbb",
   "metadata": {},
   "source": [
    "Reversing a NumPy array can be done using several techniques.\n",
    "\n",
    "__1. Reversing a 1D NumPy Array:__\n",
    "\n",
    "__Method 1: Using Slicing__"
   ]
  },
  {
   "cell_type": "code",
   "execution_count": 1,
   "id": "e31ca97f-f129-4a83-b4fa-a7ab7da9ea6e",
   "metadata": {},
   "outputs": [
    {
     "name": "stdout",
     "output_type": "stream",
     "text": [
      "[5 4 3 2 1]\n"
     ]
    }
   ],
   "source": [
    "import numpy as np\n",
    "arr_1d = np.array([1, 2, 3, 4, 5])\n",
    "reversed_arr_1d = arr_1d[::-1]\n",
    "print(reversed_arr_1d)"
   ]
  },
  {
   "cell_type": "markdown",
   "id": "6d39196b-e00d-4079-9e89-e25f5aabb74d",
   "metadata": {},
   "source": [
    "__Method 2: Using np.flip()__"
   ]
  },
  {
   "cell_type": "code",
   "execution_count": 2,
   "id": "44d14c3d-fedf-45b8-8cd7-5cc7dab2dd7d",
   "metadata": {},
   "outputs": [
    {
     "name": "stdout",
     "output_type": "stream",
     "text": [
      "[5 4 3 2 1]\n"
     ]
    }
   ],
   "source": [
    "reversed_arr_1d = np.flip(arr_1d)\n",
    "print(reversed_arr_1d)"
   ]
  },
  {
   "cell_type": "markdown",
   "id": "18903f65-3519-4c1a-8b89-7251f1501724",
   "metadata": {},
   "source": [
    "__2. Reversing a 2D NumPy Array:__\n",
    "\n",
    "__Method 1: Reversing Along the Rows (Axis 0)__\n",
    "\n",
    "- Slicing "
   ]
  },
  {
   "cell_type": "code",
   "execution_count": 3,
   "id": "70c4aca5-0275-4f8e-a67d-0cf9e3ecda75",
   "metadata": {},
   "outputs": [
    {
     "name": "stdout",
     "output_type": "stream",
     "text": [
      "[[7 8 9]\n",
      " [4 5 6]\n",
      " [1 2 3]]\n"
     ]
    }
   ],
   "source": [
    "arr_2d = np.array([[1, 2, 3], [4, 5, 6], [7, 8, 9]])\n",
    "reversed_rows = arr_2d[::-1, :]\n",
    "print(reversed_rows)"
   ]
  },
  {
   "cell_type": "markdown",
   "id": "f99a453e-c137-47df-ba30-1a71b8e9e238",
   "metadata": {},
   "source": [
    "- Using np.flip() with axis=0"
   ]
  },
  {
   "cell_type": "code",
   "execution_count": 5,
   "id": "d9a1c617-e8d6-4f16-9d03-5d473c1814aa",
   "metadata": {},
   "outputs": [
    {
     "name": "stdout",
     "output_type": "stream",
     "text": [
      "[[7 8 9]\n",
      " [4 5 6]\n",
      " [1 2 3]]\n"
     ]
    }
   ],
   "source": [
    "reversed_rows = np.flip(arr_2d, axis=0)\n",
    "print(reversed_rows)"
   ]
  },
  {
   "cell_type": "markdown",
   "id": "e17d62d9-1454-408c-a586-6622103a3e1f",
   "metadata": {},
   "source": [
    "__Method 3: Reversing Both Rows and Columns__\n",
    "- Slicing"
   ]
  },
  {
   "cell_type": "code",
   "execution_count": 6,
   "id": "c24b3232-5cce-4389-a01e-b98807f59e99",
   "metadata": {},
   "outputs": [
    {
     "name": "stdout",
     "output_type": "stream",
     "text": [
      "[[9 8 7]\n",
      " [6 5 4]\n",
      " [3 2 1]]\n"
     ]
    }
   ],
   "source": [
    "reversed_both = arr_2d[::-1, ::-1]\n",
    "print(reversed_both)"
   ]
  },
  {
   "cell_type": "markdown",
   "id": "7e53c45e-f9e5-4501-807a-b15ce9f5feec",
   "metadata": {},
   "source": [
    "- Using np.flip() without specifying axis"
   ]
  },
  {
   "cell_type": "code",
   "execution_count": 10,
   "id": "159bb089-5e7c-4b61-b01e-56d1081fab0a",
   "metadata": {},
   "outputs": [
    {
     "name": "stdout",
     "output_type": "stream",
     "text": [
      "[[9 8 7]\n",
      " [6 5 4]\n",
      " [3 2 1]]\n"
     ]
    }
   ],
   "source": [
    "reversed_both = np.flip(arr_2d)\n",
    "print(reversed_both)\n",
    "\r\n"
   ]
  },
  {
   "cell_type": "markdown",
   "id": "462202d6-ef72-4dfd-89ae-71e00c3b7107",
   "metadata": {},
   "source": [
    "### 4. How can you determine the data type of elements in a NumPy array? Discuss the importance of data types in memory management and performance."
   ]
  },
  {
   "cell_type": "markdown",
   "id": "ee3ea92c-b6ee-4680-9ca9-9e8eb408c749",
   "metadata": {},
   "source": [
    "In NumPy, each array has a specific data type , which determines the type of elements the array can hold. \n",
    "\n",
    "__Determine the Data Type of a NumPy Array__\n",
    "\n",
    "You can determine the data type of elements in a NumPy array using the dtype attribute of the array. \n",
    "__Method 1: Using the dtype Attribute__"
   ]
  },
  {
   "cell_type": "code",
   "execution_count": 11,
   "id": "78e7dc88-c24c-416a-8425-6f5df871eaff",
   "metadata": {},
   "outputs": [
    {
     "name": "stdout",
     "output_type": "stream",
     "text": [
      "int32\n"
     ]
    }
   ],
   "source": [
    "import numpy as np\n",
    "arr = np.array([1, 2, 3])\n",
    "print(arr.dtype)  "
   ]
  },
  {
   "cell_type": "markdown",
   "id": "7562f443-6ac3-49a9-bee8-f426fcd08387",
   "metadata": {},
   "source": [
    "__Method 2: Using np.result_type()__"
   ]
  },
  {
   "cell_type": "code",
   "execution_count": 12,
   "id": "cc9c0c5a-82e9-4874-9d7c-05c118440c32",
   "metadata": {},
   "outputs": [
    {
     "name": "stdout",
     "output_type": "stream",
     "text": [
      "float64\n"
     ]
    }
   ],
   "source": [
    "dtype = np.result_type(np.array([1, 2, 3]), np.array([1.0, 2.0, 3.0]))\n",
    "print(dtype)"
   ]
  },
  {
   "cell_type": "markdown",
   "id": "a979a4bb-8e33-43d6-aa5b-4e8ad81dc06a",
   "metadata": {},
   "source": [
    "__Method 3: Using dtype.name for Readable Output__"
   ]
  },
  {
   "cell_type": "code",
   "execution_count": 14,
   "id": "cb3ddccb-a1af-448d-98c9-f1d7dcc80489",
   "metadata": {},
   "outputs": [
    {
     "name": "stdout",
     "output_type": "stream",
     "text": [
      "int32\n"
     ]
    }
   ],
   "source": [
    "print(arr.dtype.name) "
   ]
  },
  {
   "cell_type": "markdown",
   "id": "0c9ac835-a47e-4b62-b54f-d402cdf112e0",
   "metadata": {},
   "source": [
    "### 5. Define nd arrays in NumPy and explain their key features. How do they differ from standard Python lists?"
   ]
  },
  {
   "cell_type": "markdown",
   "id": "1418f8d2-170c-4422-bfd5-cdb13c19fd2e",
   "metadata": {},
   "source": [
    "In NumPy, an ndarray is the central data structure used for storing and manipulating numerical data. It represents a multi-dimensional, homogeneous array of fixed-size items. Each element in an ndarray has the same data type, making it efficient for numerical computations and data analysis.\n",
    "\n",
    "__Key Features of NumPy ndarrays__\n",
    "\n",
    "__1.Multi-Dimensional:__\n",
    "\n",
    "- An ndarray can have any number of dimensions (1D, 2D, 3D, etc.), making it versatile for handling a wide range of data types such as vectors, matrices, and tensors. The number of dimensions is determined by the array's shape, which is a tuple specifying the size along each dimension.\n",
    "__Example:__ A 1D array is a vector, a 2D array is a matrix, and a 3D array can represent volumetric data or color images (height × width × channels).\n",
    "\n",
    "\n",
    "__2.Homogeneous Data Types:__\n",
    "\n",
    "- All elements in a NumPy array must have the same data type, such as int32, float64, etc. This uniformity allows NumPy to perform operations efficiently and optimize memory usage.\n",
    "\n",
    "   \n",
    "__3.Efficient Memory Usage:__\n",
    "\n",
    "- NumPy arrays store elements in contiguous memory blocks, unlike Python lists, which store references to objects. This makes accessing and processing array elements much faster.\n",
    "\n",
    "__4.Vectorized Operations:__\n",
    "- NumPy supports vectorized operations, meaning you can perform element-wise operations on entire arrays without writing loops. This allows for much faster computations compared to looping through Python lists.\n",
    "\n",
    "__5.Broadcasting:__\n",
    "\n",
    "- Broadcasting allows operations on arrays of different shapes. Instead of manually reshaping arrays to make them compatible for element-wise operations, NumPy automatically stretches or duplicates the smaller array to match the shape of the larger array, allowing for efficient computations.\n",
    "\n",
    "__Feature of NumPy ndarray__\n",
    "\n",
    "- __Data Type__\tHomogeneous (all elements must be of the same type).\n",
    "\n",
    "- __Memory Efficiency__\tStores data in contiguous memory blocks, requiring less memory.\t\n",
    "  \n",
    "- __Performance__\tMuch faster due to optimized C-based implementations and vectorized operations.\n",
    "\n",
    "__Feature of NumPy Python List__\n",
    "\n",
    "- __Data Type:__ Heterogeneous (can store elements of different types).\n",
    "- __Memory Efficiency:__ Stores references to objects, leading to higher memory usage.\n",
    "- __Performance:__ Slower for large-scale numerical computations because of lack of vectorization."
   ]
  },
  {
   "cell_type": "markdown",
   "id": "25589841-b140-4de5-a9fe-c44fb645d39d",
   "metadata": {},
   "source": [
    "### 6. Analyze the performance benefits of NumPy arrays over Python lists for large-scale numerical operations"
   ]
  },
  {
   "cell_type": "markdown",
   "id": "77a4cb2c-f264-4689-bd7c-c01b25adf487",
   "metadata": {},
   "source": [
    "NumPy arrays offer significant performance benefits over Python lists for large-scale numerical operations due to a combination of several factors, including memory efficiency, vectorization, broadcasting, and optimized execution. \n",
    "\n",
    "__1. Memory Efficiency:__\n",
    "\n",
    "Contiguous Memory Allocation: NumPy arrays store elements in a contiguous block of memory, making it easier and faster to access elements sequentially.\n",
    "\n",
    "- Fixed Data Types: All elements in a NumPy array share the same data type (e.g., int32, float64), which enables efficient use of memory. \n",
    "\n",
    "- Compact Storage: NumPy arrays directly store raw data in memory without the need for object pointers (as is the case with Python lists).\n",
    "\n",
    "__2.Speed (Vectorized Operations):__\n",
    "\n",
    "- Element-wise Operations: NumPy supports vectorized operations, meaning you can apply mathematical functions or operators to entire arrays without needing explicit loops.\n",
    "- Compiled Underlying Libraries: NumPy operations are implemented in highly optimized C and Fortran libraries, allowing for fast execution at the hardware level.\n",
    "\n",
    "___3. Broadcasting__\n",
    "\n",
    "- Efficient Operations Across Different Shapes: Broadcasting allows NumPy to perform operations on arrays of different shapes without copying or resizing data.\n",
    "\n",
    "__4. Built-in Mathematical Functions__\n",
    "\n",
    "- Optimized Math Operations: NumPy provides a wide range of built-in mathematical functions like sin, cos, log, sum, mean, and many others.\n",
    "\n",
    "__5. Avoiding Python Loops__\n",
    "\n",
    "- No Need for Explicit Loops: Python loops, especially for loops, introduce significant overhead due to the interpreter's management of loop variables and element access. In contrast, NumPy handles these operations internally in C, removing this overhead and speeding up computations.\n",
    "\n",
    "__6. Handling of Large Datasets__\n",
    "\n",
    "- Scalability: As the size of data grows, the performance gap between NumPy and Python lists widens.\n",
    "\n",
    "__7. Parallelism and SIMD (Single Instruction, Multiple Data)__\n",
    "\n",
    "- SIMD and Parallelism: NumPy can leverage hardware optimizations like SIMD instructions, which allow the CPU to perform the same operation on multiple data points simultaneously.\n",
    "\n",
    "__8. Reduced Overhead for Type Checking__\n",
    "\n",
    "- No Dynamic Type Checking: NumPy arrays enforce a single data type for all elements, which eliminates the need for frequent type checking during operations."
   ]
  },
  {
   "cell_type": "markdown",
   "id": "72b6f99c-d0b9-4ceb-beff-5c17610b55c5",
   "metadata": {},
   "source": [
    "### 7. Compare vstack() and hstack() functions in NumPy. Provide examples demonstrating their usage and output."
   ]
  },
  {
   "cell_type": "markdown",
   "id": "47ab4d19-22ec-4f0d-8e1a-a47be084f7f7",
   "metadata": {},
   "source": [
    "In NumPy, the vstack() and hstack() functions are used to stack arrays along different axes, enabling easy concatenation of arrays either vertically or horizontally.\\\n",
    "__1. np.vstack() (Vertical Stacking)__\n",
    "- Purpose: Stacks arrays vertically (row-wise) along the first axis (axis 0).\n",
    "- Usage: It combines arrays with the same number of columns by placing one array on top of the other.\n",
    "- Example:"
   ]
  },
  {
   "cell_type": "code",
   "execution_count": 15,
   "id": "97d59baa-48c0-447b-a9dd-66b66246b14d",
   "metadata": {},
   "outputs": [
    {
     "name": "stdout",
     "output_type": "stream",
     "text": [
      "Vertical Stacking (1D arrays):\n",
      " [[1 2 3]\n",
      " [4 5 6]]\n",
      "\n",
      "Vertical Stacking (2D arrays):\n",
      " [[ 1  2  3]\n",
      " [ 4  5  6]\n",
      " [ 7  8  9]\n",
      " [10 11 12]]\n"
     ]
    }
   ],
   "source": [
    "import numpy as np\n",
    "arr1 = np.array([1, 2, 3])\n",
    "arr2 = np.array([4, 5, 6])\n",
    "result_vstack_1d = np.vstack((arr1, arr2))\n",
    "print(\"Vertical Stacking (1D arrays):\\n\", result_vstack_1d)\n",
    "arr3 = np.array([[1, 2, 3], [4, 5, 6]])\n",
    "arr4 = np.array([[7, 8, 9], [10, 11, 12]])\n",
    "result_vstack_2d = np.vstack((arr3, arr4))\n",
    "print(\"\\nVertical Stacking (2D arrays):\\n\", result_vstack_2d)\n"
   ]
  },
  {
   "cell_type": "markdown",
   "id": "cd749f13-0a73-47bc-bcad-c101eea60ccc",
   "metadata": {},
   "source": [
    "__2. np.hstack() (Horizontal Stacking)__\n",
    "- Purpose: Stacks arrays horizontally (column-wise) along the second axis (axis 1).\n",
    "- Usage: It combines arrays with the same number of rows by placing one array next to the other (side by side).\n",
    "- Example:"
   ]
  },
  {
   "cell_type": "code",
   "execution_count": 16,
   "id": "4ca8c0d9-b856-4769-ac25-631b278da3f9",
   "metadata": {},
   "outputs": [
    {
     "name": "stdout",
     "output_type": "stream",
     "text": [
      "Horizontal Stacking (1D arrays):\n",
      " [1 2 3 4 5 6]\n",
      "\n",
      "Horizontal Stacking (2D arrays):\n",
      " [[ 1  2  3  7  8  9]\n",
      " [ 4  5  6 10 11 12]]\n"
     ]
    }
   ],
   "source": [
    "import numpy as np\n",
    "arr1 = np.array([1, 2, 3])\n",
    "arr2 = np.array([4, 5, 6])\n",
    "result_hstack_1d = np.hstack((arr1, arr2))\n",
    "print(\"Horizontal Stacking (1D arrays):\\n\", result_hstack_1d)\n",
    "arr3 = np.array([[1, 2, 3], [4, 5, 6]])\n",
    "arr4 = np.array([[7, 8, 9], [10, 11, 12]])\n",
    "result_hstack_2d = np.hstack((arr3, arr4))\n",
    "print(\"\\nHorizontal Stacking (2D arrays):\\n\", result_hstack_2d)"
   ]
  },
  {
   "cell_type": "markdown",
   "id": "0bf5153e-961c-4293-9c8e-220348bcd54b",
   "metadata": {},
   "source": [
    "### 8. Explain the differences between fliplr() and flipud() methods in NumPy, including their effects on various array dimensions."
   ]
  },
  {
   "cell_type": "markdown",
   "id": "6e35d19b-26bb-4ea1-9d5f-f7550197b0ab",
   "metadata": {},
   "source": [
    "In NumPy, the fliplr() and flipud() methods are used to flip arrays along different axes.\n",
    "\n",
    "__1. np.fliplr() (Flip Left to Right)__\n",
    "- __Purpose:__ fliplr() flips an array horizontally by reversing the order of columns, i.e., it reflects the array along the vertical axis (left-right flip).\n",
    "- Applicable: It is primarily used for 2D arrays or higher dimensions where the second axis (axis 1, columns) can be reversed. This function does not work on 1D arrays, as there's no second axis.\n",
    "  \n",
    "__Effect on 2D Arrays:__\n",
    "- __Original Array:__ The first column becomes the last, the second column becomes the second-to-last, and so on."
   ]
  },
  {
   "cell_type": "code",
   "execution_count": 17,
   "id": "931c1e4f-4a10-40e9-af0b-ab6b367fae96",
   "metadata": {},
   "outputs": [
    {
     "name": "stdout",
     "output_type": "stream",
     "text": [
      "Original 2D Array:\n",
      " [[1 2 3]\n",
      " [4 5 6]\n",
      " [7 8 9]]\n",
      "After fliplr:\n",
      " [[3 2 1]\n",
      " [6 5 4]\n",
      " [9 8 7]]\n"
     ]
    }
   ],
   "source": [
    "import numpy as np\n",
    "arr_2d = np.array([[1, 2, 3], [4, 5, 6], [7, 8, 9]])\n",
    "result_fliplr = np.fliplr(arr_2d)\n",
    "print(\"Original 2D Array:\\n\", arr_2d)\n",
    "print(\"After fliplr:\\n\", result_fliplr)"
   ]
  },
  {
   "cell_type": "markdown",
   "id": "0f81d631-4ab8-4ca4-9c25-284b43d32f53",
   "metadata": {},
   "source": [
    "__Effect on 3D Arrays:__\n",
    "\n",
    "- __fliplr()__ flips the second axis (columns) for every 2D slice of the 3D array."
   ]
  },
  {
   "cell_type": "code",
   "execution_count": 18,
   "id": "523e9902-5fb7-4e36-ae3e-9e810bd2b01b",
   "metadata": {},
   "outputs": [
    {
     "name": "stdout",
     "output_type": "stream",
     "text": [
      "After fliplr (3D array):\n",
      " [[[3 4]\n",
      "  [1 2]]\n",
      "\n",
      " [[7 8]\n",
      "  [5 6]]]\n"
     ]
    }
   ],
   "source": [
    "arr_3d = np.array([[[1, 2], [3, 4]], [[5, 6], [7, 8]]])\n",
    "result_fliplr_3d = np.fliplr(arr_3d)\n",
    "print(\"After fliplr (3D array):\\n\", result_fliplr_3d)"
   ]
  },
  {
   "cell_type": "markdown",
   "id": "6a679190-f727-4612-89e1-71e04c10d6f6",
   "metadata": {},
   "source": [
    "__2. np.flipud() (Flip Up to Down)__\n",
    "- __Purpose:__ flipud() flips an array vertically by reversing the order of rows, i.e., it reflects the array along the horizontal axis (top-bottom flip).\n",
    "- __Applicable:__ It can be applied to both 1D and 2D arrays (or higher dimensions). For 1D arrays, it reverses the order of elements. For 2D arrays, it reverses the rows.\n",
    " \n",
    "__Effect on 1D Arrays:__\n",
    "- __Original Array:__ The first element becomes the last, the second element becomes the second-to-last, and so on."
   ]
  },
  {
   "cell_type": "code",
   "execution_count": 19,
   "id": "192f627e-4d6a-411b-9961-6920ee42d4c1",
   "metadata": {},
   "outputs": [
    {
     "name": "stdout",
     "output_type": "stream",
     "text": [
      "Original 1D Array:\n",
      " [1 2 3 4 5]\n",
      "After flipud:\n",
      " [5 4 3 2 1]\n"
     ]
    }
   ],
   "source": [
    "arr_1d = np.array([1, 2, 3, 4, 5])\n",
    "result_flipud_1d = np.flipud(arr_1d)\n",
    "print(\"Original 1D Array:\\n\", arr_1d)\n",
    "print(\"After flipud:\\n\", result_flipud_1d)"
   ]
  },
  {
   "cell_type": "markdown",
   "id": "e9f2ff21-eb8a-4b9f-9f3c-9527ac10f059",
   "metadata": {},
   "source": [
    "__Effect on 2D Arrays:__\n",
    "- __Original Array:__ The first row becomes the last, the second row becomes the second-to-last, and so on."
   ]
  },
  {
   "cell_type": "code",
   "execution_count": 20,
   "id": "c76532df-3ec7-429d-bd9c-6783d26a5d5c",
   "metadata": {},
   "outputs": [
    {
     "name": "stdout",
     "output_type": "stream",
     "text": [
      "Original 2D Array:\n",
      " [[1 2 3]\n",
      " [4 5 6]\n",
      " [7 8 9]]\n",
      "After flipud:\n",
      " [[7 8 9]\n",
      " [4 5 6]\n",
      " [1 2 3]]\n"
     ]
    }
   ],
   "source": [
    "arr_2d = np.array([[1, 2, 3], [4, 5, 6], [7, 8, 9]])\n",
    "result_flipud = np.flipud(arr_2d)\n",
    "print(\"Original 2D Array:\\n\", arr_2d)\n",
    "print(\"After flipud:\\n\", result_flipud)"
   ]
  },
  {
   "cell_type": "markdown",
   "id": "e9ced669-6796-4c5f-9575-2abf6696fe01",
   "metadata": {},
   "source": [
    "### 9. Discuss the functionality of the array_split() method in NumPy. How does it handle uneven splits?"
   ]
  },
  {
   "cell_type": "markdown",
   "id": "55081c02-884d-4086-ba6c-e2dc9df41397",
   "metadata": {},
   "source": [
    "The array_split() method in NumPy is used to split an array into multiple sub-arrays. Unlike the split() function, which requires the splits to be equal, array_split() is more flexible and can handle uneven splits by distributing the remainder across the sub-arrays.\n",
    "\n",
    "__Syntax:__"
   ]
  },
  {
   "cell_type": "code",
   "execution_count": null,
   "id": "f65d6144-251c-4a9b-8744-c66e869232f3",
   "metadata": {},
   "outputs": [],
   "source": [
    "numpy.array_split(arr, indices_or_sections, axis=0)"
   ]
  },
  {
   "cell_type": "markdown",
   "id": "eeef087b-fd04-48c8-9377-cb9d0a24d2d8",
   "metadata": {},
   "source": [
    "- __arr:__ The input array to be split.\n",
    "\n",
    "- __indices_or_sections:__ This determines how the array will be split. It can either be:\n",
    "    - An integer specifying the number of sub-arrays to split into.\n",
    "    - A list of indices where the splits will occur.\n",
    "- __axis:__ The axis along which to split the array. By default, it's axis 0 (rows for 2D arrays)\n",
    "\n",
    "__How array_split() Handles Uneven Splits:__\n",
    "\n",
    "When the array length is not evenly divisible by the number of requested splits, array_split() distributes the extra elements to the first few sub-arrays. The sub-arrays that receive extra elements will have one more element than the others.\n",
    "\n",
    "__Example:__ Even Split Using array_split():"
   ]
  },
  {
   "cell_type": "code",
   "execution_count": 23,
   "id": "c2334c03-e142-4855-8461-aa963bc6cc2f",
   "metadata": {},
   "outputs": [
    {
     "name": "stdout",
     "output_type": "stream",
     "text": [
      "Split arrays: [array([1, 2]), array([3, 4]), array([5, 6])]\n"
     ]
    }
   ],
   "source": [
    "import numpy as np\n",
    "arr = np.array([1, 2, 3, 4, 5, 6])\n",
    "split_arrays = np.array_split(arr, 3)\n",
    "print(\"Split arrays:\", split_arrays)"
   ]
  },
  {
   "cell_type": "markdown",
   "id": "dfa9883a-8f07-496e-bd37-72c9bf67467e",
   "metadata": {},
   "source": [
    "__Example:__ Uneven Split Using array_split()"
   ]
  },
  {
   "cell_type": "code",
   "execution_count": 24,
   "id": "484c4a28-57d7-44de-839c-0a9edf2aa343",
   "metadata": {},
   "outputs": [
    {
     "name": "stdout",
     "output_type": "stream",
     "text": [
      "Split arrays: [array([1, 2, 3]), array([4, 5]), array([6, 7])]\n"
     ]
    }
   ],
   "source": [
    "arr = np.array([1, 2, 3, 4, 5, 6, 7])\n",
    "split_arrays = np.array_split(arr, 3)\n",
    "print(\"Split arrays:\", split_arrays)"
   ]
  },
  {
   "cell_type": "markdown",
   "id": "3266e618-feb5-408d-b07a-2719945c3405",
   "metadata": {},
   "source": [
    "### 10. Explain the concepts of vectorization and broadcasting in NumPy. How do they contribute to efficient array operations?"
   ]
  },
  {
   "cell_type": "markdown",
   "id": "54e95be3-a434-46ae-bd52-8d7f7c4a5bbb",
   "metadata": {},
   "source": [
    "Vectorization and broadcasting are powerful concepts in NumPy that significantly enhance the efficiency and performance of array operations.\n",
    "\n",
    "__1. Vectorization__\n",
    "\n",
    "__Concept:__\n",
    "\n",
    "Vectorization refers to the practice of performing operations on entire arrays or large blocks of data in a single operation, rather than performing the operation element-wise in a loop. It leverages low-level, compiled code and optimized libraries to perform these operations efficiently."
   ]
  },
  {
   "cell_type": "code",
   "execution_count": 26,
   "id": "73d7012d-6faf-440a-b02c-8f0c1821cc43",
   "metadata": {},
   "outputs": [],
   "source": [
    "import numpy as np\n",
    "arr = np.arange(1000000)\n",
    "squared = arr ** 2"
   ]
  },
  {
   "cell_type": "markdown",
   "id": "cb61c6d9-d40d-4eb5-a69b-f33a5e4f442c",
   "metadata": {},
   "source": [
    "__Benefits:__\n",
    "\n",
    "- __Performance:__ Vectorized operations are generally much faster because they avoid the overhead of Python loops and make use of optimized low-level operations.\n",
    "- __Readability:__ Vectorized code is more concise and easier to understand compared to loop-based approaches."
   ]
  },
  {
   "cell_type": "markdown",
   "id": "5dc7075b-3780-4625-ba9a-178667c87fa9",
   "metadata": {},
   "source": [
    "__2. Broadcasting__\n",
    "__Concept:__\n",
    "\n",
    "- __Broadcasting__ is a technique used to perform operations on arrays of different shapes in a consistent way. It allows NumPy to handle arithmetic operations between arrays of different sizes without the need for explicit resizing or replication of data."
   ]
  },
  {
   "cell_type": "code",
   "execution_count": 28,
   "id": "678e2af0-f8b1-49d0-9f40-abf1f27a2b76",
   "metadata": {},
   "outputs": [
    {
     "name": "stdout",
     "output_type": "stream",
     "text": [
      "[6 7 8 9]\n"
     ]
    }
   ],
   "source": [
    "import numpy as np\n",
    "arr = np.array([1, 2, 3, 4])\n",
    "scalar = 5\n",
    "result = arr + scalar\n",
    "print(result)"
   ]
  },
  {
   "cell_type": "markdown",
   "id": "0d5ab489-22a6-4ab0-8b14-d019cb93a36a",
   "metadata": {},
   "source": [
    "__Benefits:__\n",
    "\n",
    "- __Efficiency:__ Broadcasting avoids the need to manually expand arrays or use extra memory for large datasets. It performs operations efficiently by leveraging low-level optimizations.\\\n",
    "\n",
    "- __Simplicity:__ Simplifies code by allowing operations on arrays of different shapes without explicit looping or data manipulation."
   ]
  },
  {
   "cell_type": "code",
   "execution_count": null,
   "id": "de5b4a6b-5e4e-4280-aecc-e1e9c1be2dd5",
   "metadata": {},
   "outputs": [],
   "source": []
  }
 ],
 "metadata": {
  "kernelspec": {
   "display_name": "Python 3 (ipykernel)",
   "language": "python",
   "name": "python3"
  },
  "language_info": {
   "codemirror_mode": {
    "name": "ipython",
    "version": 3
   },
   "file_extension": ".py",
   "mimetype": "text/x-python",
   "name": "python",
   "nbconvert_exporter": "python",
   "pygments_lexer": "ipython3",
   "version": "3.12.4"
  }
 },
 "nbformat": 4,
 "nbformat_minor": 5
}
